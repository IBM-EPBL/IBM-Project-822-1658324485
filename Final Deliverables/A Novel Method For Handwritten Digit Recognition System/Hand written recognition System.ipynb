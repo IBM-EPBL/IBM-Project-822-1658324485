{
  "nbformat": 4,
  "nbformat_minor": 0,
  "metadata": {
    "colab": {
      "provenance": []
    },
    "kernelspec": {
      "name": "python3",
      "display_name": "Python 3"
    },
    "language_info": {
      "name": "python"
    }
  },
  "cells": [
    {
      "cell_type": "markdown",
      "source": [
        "### SPRINT1-UNDERSTANDING THE DATA"
      ],
      "metadata": {
        "id": "tOZvsyfsujJZ"
      }
    },
    {
      "cell_type": "markdown",
      "source": [
        "1.Import the required libraries\n"
      ],
      "metadata": {
        "id": "WcbioGo4uJV8"
      }
    },
    {
      "cell_type": "code",
      "execution_count": 1,
      "metadata": {
        "id": "dbxWV2uzn67j"
      },
      "outputs": [],
      "source": [
        "import numpy\n",
        "import tensorflow\n",
        "from tensorflow.keras.datasets import mnist\n",
        "from tensorflow.keras.models import Sequential\n",
        "from tensorflow.keras import layers\n",
        "from tensorflow.keras.layers import Dense ,Flatten\n",
        "from tensorflow.keras.layers import Conv2D\n",
        "from keras.optimizers import Adam\n",
        "from keras.utils import np_utils"
      ]
    },
    {
      "cell_type": "markdown",
      "source": [
        "2.Loading the data"
      ],
      "metadata": {
        "id": "v4BIqZXxpApT"
      }
    },
    {
      "cell_type": "code",
      "source": [
        "(x_train,y_train),(x_test,y_test)=mnist.load_data()"
      ],
      "metadata": {
        "colab": {
          "base_uri": "https://localhost:8080/"
        },
        "id": "liNUdb6qpEaO",
        "outputId": "9ad0d231-9bc8-4239-b09c-1978fd2eb38b"
      },
      "execution_count": 2,
      "outputs": [
        {
          "output_type": "stream",
          "name": "stdout",
          "text": [
            "Downloading data from https://storage.googleapis.com/tensorflow/tf-keras-datasets/mnist.npz\n",
            "11490434/11490434 [==============================] - 0s 0us/step\n"
          ]
        }
      ]
    },
    {
      "cell_type": "code",
      "source": [
        "print(x_train.shape)\n",
        "print(x_test.shape)"
      ],
      "metadata": {
        "colab": {
          "base_uri": "https://localhost:8080/"
        },
        "id": "ta-mevGdpxCN",
        "outputId": "54a175bc-66e1-46ee-c014-2c68e97e7132"
      },
      "execution_count": 3,
      "outputs": [
        {
          "output_type": "stream",
          "name": "stdout",
          "text": [
            "(60000, 28, 28)\n",
            "(10000, 28, 28)\n"
          ]
        }
      ]
    },
    {
      "cell_type": "markdown",
      "source": [
        "3.Analyzing the data\n"
      ],
      "metadata": {
        "id": "zJjTPb_-qDFm"
      }
    },
    {
      "cell_type": "code",
      "source": [
        "x_train[0]"
      ],
      "metadata": {
        "colab": {
          "base_uri": "https://localhost:8080/"
        },
        "id": "woL8dqUGqF7l",
        "outputId": "1779a437-8821-408d-9bd0-6c9c947227f1"
      },
      "execution_count": 4,
      "outputs": [
        {
          "output_type": "execute_result",
          "data": {
            "text/plain": [
              "array([[  0,   0,   0,   0,   0,   0,   0,   0,   0,   0,   0,   0,   0,\n",
              "          0,   0,   0,   0,   0,   0,   0,   0,   0,   0,   0,   0,   0,\n",
              "          0,   0],\n",
              "       [  0,   0,   0,   0,   0,   0,   0,   0,   0,   0,   0,   0,   0,\n",
              "          0,   0,   0,   0,   0,   0,   0,   0,   0,   0,   0,   0,   0,\n",
              "          0,   0],\n",
              "       [  0,   0,   0,   0,   0,   0,   0,   0,   0,   0,   0,   0,   0,\n",
              "          0,   0,   0,   0,   0,   0,   0,   0,   0,   0,   0,   0,   0,\n",
              "          0,   0],\n",
              "       [  0,   0,   0,   0,   0,   0,   0,   0,   0,   0,   0,   0,   0,\n",
              "          0,   0,   0,   0,   0,   0,   0,   0,   0,   0,   0,   0,   0,\n",
              "          0,   0],\n",
              "       [  0,   0,   0,   0,   0,   0,   0,   0,   0,   0,   0,   0,   0,\n",
              "          0,   0,   0,   0,   0,   0,   0,   0,   0,   0,   0,   0,   0,\n",
              "          0,   0],\n",
              "       [  0,   0,   0,   0,   0,   0,   0,   0,   0,   0,   0,   0,   3,\n",
              "         18,  18,  18, 126, 136, 175,  26, 166, 255, 247, 127,   0,   0,\n",
              "          0,   0],\n",
              "       [  0,   0,   0,   0,   0,   0,   0,   0,  30,  36,  94, 154, 170,\n",
              "        253, 253, 253, 253, 253, 225, 172, 253, 242, 195,  64,   0,   0,\n",
              "          0,   0],\n",
              "       [  0,   0,   0,   0,   0,   0,   0,  49, 238, 253, 253, 253, 253,\n",
              "        253, 253, 253, 253, 251,  93,  82,  82,  56,  39,   0,   0,   0,\n",
              "          0,   0],\n",
              "       [  0,   0,   0,   0,   0,   0,   0,  18, 219, 253, 253, 253, 253,\n",
              "        253, 198, 182, 247, 241,   0,   0,   0,   0,   0,   0,   0,   0,\n",
              "          0,   0],\n",
              "       [  0,   0,   0,   0,   0,   0,   0,   0,  80, 156, 107, 253, 253,\n",
              "        205,  11,   0,  43, 154,   0,   0,   0,   0,   0,   0,   0,   0,\n",
              "          0,   0],\n",
              "       [  0,   0,   0,   0,   0,   0,   0,   0,   0,  14,   1, 154, 253,\n",
              "         90,   0,   0,   0,   0,   0,   0,   0,   0,   0,   0,   0,   0,\n",
              "          0,   0],\n",
              "       [  0,   0,   0,   0,   0,   0,   0,   0,   0,   0,   0, 139, 253,\n",
              "        190,   2,   0,   0,   0,   0,   0,   0,   0,   0,   0,   0,   0,\n",
              "          0,   0],\n",
              "       [  0,   0,   0,   0,   0,   0,   0,   0,   0,   0,   0,  11, 190,\n",
              "        253,  70,   0,   0,   0,   0,   0,   0,   0,   0,   0,   0,   0,\n",
              "          0,   0],\n",
              "       [  0,   0,   0,   0,   0,   0,   0,   0,   0,   0,   0,   0,  35,\n",
              "        241, 225, 160, 108,   1,   0,   0,   0,   0,   0,   0,   0,   0,\n",
              "          0,   0],\n",
              "       [  0,   0,   0,   0,   0,   0,   0,   0,   0,   0,   0,   0,   0,\n",
              "         81, 240, 253, 253, 119,  25,   0,   0,   0,   0,   0,   0,   0,\n",
              "          0,   0],\n",
              "       [  0,   0,   0,   0,   0,   0,   0,   0,   0,   0,   0,   0,   0,\n",
              "          0,  45, 186, 253, 253, 150,  27,   0,   0,   0,   0,   0,   0,\n",
              "          0,   0],\n",
              "       [  0,   0,   0,   0,   0,   0,   0,   0,   0,   0,   0,   0,   0,\n",
              "          0,   0,  16,  93, 252, 253, 187,   0,   0,   0,   0,   0,   0,\n",
              "          0,   0],\n",
              "       [  0,   0,   0,   0,   0,   0,   0,   0,   0,   0,   0,   0,   0,\n",
              "          0,   0,   0,   0, 249, 253, 249,  64,   0,   0,   0,   0,   0,\n",
              "          0,   0],\n",
              "       [  0,   0,   0,   0,   0,   0,   0,   0,   0,   0,   0,   0,   0,\n",
              "          0,  46, 130, 183, 253, 253, 207,   2,   0,   0,   0,   0,   0,\n",
              "          0,   0],\n",
              "       [  0,   0,   0,   0,   0,   0,   0,   0,   0,   0,   0,   0,  39,\n",
              "        148, 229, 253, 253, 253, 250, 182,   0,   0,   0,   0,   0,   0,\n",
              "          0,   0],\n",
              "       [  0,   0,   0,   0,   0,   0,   0,   0,   0,   0,  24, 114, 221,\n",
              "        253, 253, 253, 253, 201,  78,   0,   0,   0,   0,   0,   0,   0,\n",
              "          0,   0],\n",
              "       [  0,   0,   0,   0,   0,   0,   0,   0,  23,  66, 213, 253, 253,\n",
              "        253, 253, 198,  81,   2,   0,   0,   0,   0,   0,   0,   0,   0,\n",
              "          0,   0],\n",
              "       [  0,   0,   0,   0,   0,   0,  18, 171, 219, 253, 253, 253, 253,\n",
              "        195,  80,   9,   0,   0,   0,   0,   0,   0,   0,   0,   0,   0,\n",
              "          0,   0],\n",
              "       [  0,   0,   0,   0,  55, 172, 226, 253, 253, 253, 253, 244, 133,\n",
              "         11,   0,   0,   0,   0,   0,   0,   0,   0,   0,   0,   0,   0,\n",
              "          0,   0],\n",
              "       [  0,   0,   0,   0, 136, 253, 253, 253, 212, 135, 132,  16,   0,\n",
              "          0,   0,   0,   0,   0,   0,   0,   0,   0,   0,   0,   0,   0,\n",
              "          0,   0],\n",
              "       [  0,   0,   0,   0,   0,   0,   0,   0,   0,   0,   0,   0,   0,\n",
              "          0,   0,   0,   0,   0,   0,   0,   0,   0,   0,   0,   0,   0,\n",
              "          0,   0],\n",
              "       [  0,   0,   0,   0,   0,   0,   0,   0,   0,   0,   0,   0,   0,\n",
              "          0,   0,   0,   0,   0,   0,   0,   0,   0,   0,   0,   0,   0,\n",
              "          0,   0],\n",
              "       [  0,   0,   0,   0,   0,   0,   0,   0,   0,   0,   0,   0,   0,\n",
              "          0,   0,   0,   0,   0,   0,   0,   0,   0,   0,   0,   0,   0,\n",
              "          0,   0]], dtype=uint8)"
            ]
          },
          "metadata": {},
          "execution_count": 4
        }
      ]
    },
    {
      "cell_type": "code",
      "source": [
        "y_train[0]"
      ],
      "metadata": {
        "colab": {
          "base_uri": "https://localhost:8080/"
        },
        "id": "xQrZeRJ7qP2I",
        "outputId": "28ecc68d-05cc-4b89-e9df-d8a4dd9de4ae"
      },
      "execution_count": 6,
      "outputs": [
        {
          "output_type": "execute_result",
          "data": {
            "text/plain": [
              "5"
            ]
          },
          "metadata": {},
          "execution_count": 6
        }
      ]
    },
    {
      "cell_type": "code",
      "source": [
        "import matplotlib.pyplot as plt\n",
        "plt.imshow(x_train[0])"
      ],
      "metadata": {
        "colab": {
          "base_uri": "https://localhost:8080/",
          "height": 282
        },
        "id": "JXfW_MdUqVvy",
        "outputId": "a13e039c-f882-487f-af91-94cc976704c4"
      },
      "execution_count": 5,
      "outputs": [
        {
          "output_type": "execute_result",
          "data": {
            "text/plain": [
              "<matplotlib.image.AxesImage at 0x7f0428b69bd0>"
            ]
          },
          "metadata": {},
          "execution_count": 5
        },
        {
          "output_type": "display_data",
          "data": {
            "text/plain": [
              "<Figure size 432x288 with 1 Axes>"
            ],
            "image/png": "[encoded data removed]"
          },
          "metadata": {
            "needs_background": "light"
          }
        }
      ]
    },
    {
      "cell_type": "markdown",
      "source": [
        "4.Reshaping the dataset"
      ],
      "metadata": {
        "id": "2xJ_MH9dqkuu"
      }
    },
    {
      "cell_type": "code",
      "source": [
        "x_train=x_train.reshape(60000, 28, 28, 1).astype('float32')\n",
        "x_test=x_test.reshape(10000, 28, 28, 1).astype('float32')"
      ],
      "metadata": {
        "id": "d3EDMftKqrwO"
      },
      "execution_count": 13,
      "outputs": []
    },
    {
      "cell_type": "markdown",
      "source": [
        "5.One hot Encoding"
      ],
      "metadata": {
        "id": "NeItduqWrUiG"
      }
    },
    {
      "cell_type": "code",
      "source": [
        "number_of_classes=10\n",
        "y_train=np_utils.to_categorical(y_train, number_of_classes)\n",
        "y_test=np_utils.to_categorical(y_test, number_of_classes)"
      ],
      "metadata": {
        "id": "F8DGYDdurZz4"
      },
      "execution_count": 8,
      "outputs": []
    },
    {
      "cell_type": "code",
      "source": [
        "y_train[0]"
      ],
      "metadata": {
        "colab": {
          "base_uri": "https://localhost:8080/"
        },
        "id": "V7VcN1qwr_Gn",
        "outputId": "b2a2b90b-16c4-4e34-f35e-6b7428c59456"
      },
      "execution_count": 9,
      "outputs": [
        {
          "output_type": "execute_result",
          "data": {
            "text/plain": [
              "array([0., 0., 0., 0., 0., 1., 0., 0., 0., 0.], dtype=float32)"
            ]
          },
          "metadata": {},
          "execution_count": 9
        }
      ]
    },
    {
      "cell_type": "markdown",
      "source": [
        "### SPRINT2-MODEL BUILDING"
      ],
      "metadata": {
        "id": "VSawZEvJuv7P"
      }
    },
    {
      "cell_type": "markdown",
      "source": [
        "1.Add CNN Layers"
      ],
      "metadata": {
        "id": "ImGoAE-fufSv"
      }
    },
    {
      "cell_type": "code",
      "source": [
        "model = Sequential()\n",
        "model.add(Conv2D(64, (3, 3), input_shape=(28,28,1),activation='relu'))\n",
        "model.add(Conv2D(32,(3,3),activation='relu'))\n",
        "model.add(Flatten())\n",
        "model.add(Dense(number_of_classes,activation='softmax'))\n"
      ],
      "metadata": {
        "id": "68lQOYe7vKLv"
      },
      "execution_count": 10,
      "outputs": []
    },
    {
      "cell_type": "markdown",
      "source": [
        "2.Compiling the model"
      ],
      "metadata": {
        "id": "89TsFdlcwKKm"
      }
    },
    {
      "cell_type": "code",
      "source": [
        "model.compile(loss='categorical_crossentropy',optimizer=\"Adam\",metrics=['accuracy'])"
      ],
      "metadata": {
        "id": "nVCUGCjjv02y"
      },
      "execution_count": 11,
      "outputs": []
    },
    {
      "cell_type": "markdown",
      "source": [
        "3.Train the model"
      ],
      "metadata": {
        "id": "PHBpULb4wjXt"
      }
    },
    {
      "cell_type": "code",
      "source": [
        "model.fit(x_train,y_train, validation_data=(x_test,y_test),epochs=5,batch_size=32)"
      ],
      "metadata": {
        "colab": {
          "base_uri": "https://localhost:8080/"
        },
        "id": "kW994THgwgcd",
        "outputId": "7f12cb54-ef79-4cd7-ab76-b8c993af8e90"
      },
      "execution_count": 14,
      "outputs": [
        {
          "output_type": "stream",
          "name": "stdout",
          "text": [
            "Epoch 1/5\n",
            "1875/1875 [==============================] - 196s 104ms/step - loss: 0.2613 - accuracy: 0.9523 - val_loss: 0.0924 - val_accuracy: 0.9719\n",
            "Epoch 2/5\n",
            "1875/1875 [==============================] - 194s 103ms/step - loss: 0.0669 - accuracy: 0.9802 - val_loss: 0.0714 - val_accuracy: 0.9790\n",
            "Epoch 3/5\n",
            "1875/1875 [==============================] - 194s 104ms/step - loss: 0.0416 - accuracy: 0.9872 - val_loss: 0.1121 - val_accuracy: 0.9702\n",
            "Epoch 4/5\n",
            "1875/1875 [==============================] - 194s 103ms/step - loss: 0.0321 - accuracy: 0.9900 - val_loss: 0.0774 - val_accuracy: 0.9819\n",
            "Epoch 5/5\n",
            "1875/1875 [==============================] - 193s 103ms/step - loss: 0.0276 - accuracy: 0.9914 - val_loss: 0.0944 - val_accuracy: 0.9776\n"
          ]
        },
        {
          "output_type": "execute_result",
          "data": {
            "text/plain": [
              "<keras.callbacks.History at 0x7f04225fd910>"
            ]
          },
          "metadata": {},
          "execution_count": 14
        }
      ]
    },
    {
      "cell_type": "markdown",
      "source": [
        "4.Observing the metics"
      ],
      "metadata": {
        "id": "0DbQ8mZK1ZO3"
      }
    },
    {
      "cell_type": "code",
      "source": [
        "metrics=model.evaluate(x_test,y_test,verbose=0)\n",
        "print(\"Metrics(Test loss & Test Accuracy): \")\n",
        "print(metrics)"
      ],
      "metadata": {
        "colab": {
          "base_uri": "https://localhost:8080/"
        },
        "id": "FtFMKPy3xDH-",
        "outputId": "94b3b096-f7e1-4c8c-ec1d-d1bf49936e24"
      },
      "execution_count": 15,
      "outputs": [
        {
          "output_type": "stream",
          "name": "stdout",
          "text": [
            "Metrics(Test loss & Test Accuracy): \n",
            "[0.09440457075834274, 0.9775999784469604]\n"
          ]
        }
      ]
    },
    {
      "cell_type": "markdown",
      "source": [
        "5.Test the model"
      ],
      "metadata": {
        "id": "0YYlEmww15sS"
      }
    },
    {
      "cell_type": "code",
      "source": [
        "prediction=model.predict(x_test[:4])\n",
        "print(prediction)"
      ],
      "metadata": {
        "colab": {
          "base_uri": "https://localhost:8080/"
        },
        "id": "mlgVgwCt10Yb",
        "outputId": "9d048ea5-0585-400f-a9e5-8c773868259b"
      },
      "execution_count": 16,
      "outputs": [
        {
          "output_type": "stream",
          "name": "stdout",
          "text": [
            "1/1 [==============================] - 1s 503ms/step\n",
            "[[6.39302014e-11 1.92686877e-19 6.10958750e-08 4.46125068e-06\n",
            "  5.08821697e-19 2.58780797e-14 5.66186983e-19 9.99995470e-01\n",
            "  9.95120999e-12 4.52038990e-10]\n",
            " [5.31988949e-13 2.69534097e-13 1.00000000e+00 2.39036747e-14\n",
            "  5.06575230e-20 4.59198028e-22 1.59037870e-11 2.60662725e-23\n",
            "  7.69959183e-13 4.27862457e-24]\n",
            " [5.10552134e-08 9.99419808e-01 1.03479006e-05 7.75968352e-12\n",
            "  1.03664997e-05 3.92677890e-07 1.58789104e-09 3.52089885e-11\n",
            "  5.59113978e-04 1.09291005e-11]\n",
            " [1.00000000e+00 5.53433434e-16 4.46223137e-12 2.54150012e-15\n",
            "  3.18195550e-14 3.07361664e-10 7.02960912e-10 2.14802486e-16\n",
            "  2.28522984e-13 7.06658430e-12]]\n"
          ]
        }
      ]
    },
    {
      "cell_type": "code",
      "source": [
        "import numpy as np\n",
        "print(np.argmax(prediction,axis=1))\n",
        "print(y_test[:4])"
      ],
      "metadata": {
        "colab": {
          "base_uri": "https://localhost:8080/"
        },
        "id": "fX9jndzP2NCI",
        "outputId": "69a05ce2-945f-40ef-b31b-c22a52edd66c"
      },
      "execution_count": 17,
      "outputs": [
        {
          "output_type": "stream",
          "name": "stdout",
          "text": [
            "[7 2 1 0]\n",
            "[[0. 0. 0. 0. 0. 0. 0. 1. 0. 0.]\n",
            " [0. 0. 1. 0. 0. 0. 0. 0. 0. 0.]\n",
            " [0. 1. 0. 0. 0. 0. 0. 0. 0. 0.]\n",
            " [1. 0. 0. 0. 0. 0. 0. 0. 0. 0.]]\n"
          ]
        }
      ]
    },
    {
      "cell_type": "markdown",
      "source": [
        "6.Observing the metics"
      ],
      "metadata": {
        "id": "48xOXnAJ29og"
      }
    },
    {
      "cell_type": "code",
      "source": [
        "metrics=model.evaluate(x_test,y_test,verbose=0)\n",
        "print(\"Metrics(Test loss & Test Accuracy): \")\n",
        "print(metrics)"
      ],
      "metadata": {
        "colab": {
          "base_uri": "https://localhost:8080/"
        },
        "id": "UzWhs1Rp3D94",
        "outputId": "a20a084b-f39d-4069-befa-56f3c09ffba6"
      },
      "execution_count": 18,
      "outputs": [
        {
          "output_type": "stream",
          "name": "stdout",
          "text": [
            "Metrics(Test loss & Test Accuracy): \n",
            "[0.09440457075834274, 0.9775999784469604]\n"
          ]
        }
      ]
    },
    {
      "cell_type": "markdown",
      "source": [
        "7.Test the model"
      ],
      "metadata": {
        "id": "o-LOntEY3ML6"
      }
    },
    {
      "cell_type": "code",
      "source": [
        "prediction=model.predict(x_test[:4])\n",
        "print(prediction)"
      ],
      "metadata": {
        "colab": {
          "base_uri": "https://localhost:8080/"
        },
        "id": "cBDT8bHV3S97",
        "outputId": "9f8b05af-8a32-4d40-a929-3dfc2f56ef2c"
      },
      "execution_count": 19,
      "outputs": [
        {
          "output_type": "stream",
          "name": "stdout",
          "text": [
            "1/1 [==============================] - 0s 23ms/step\n",
            "[[6.39302014e-11 1.92686877e-19 6.10958750e-08 4.46125068e-06\n",
            "  5.08821697e-19 2.58780797e-14 5.66186983e-19 9.99995470e-01\n",
            "  9.95120999e-12 4.52038990e-10]\n",
            " [5.31988949e-13 2.69534097e-13 1.00000000e+00 2.39036747e-14\n",
            "  5.06575230e-20 4.59198028e-22 1.59037870e-11 2.60662725e-23\n",
            "  7.69959183e-13 4.27862457e-24]\n",
            " [5.10552134e-08 9.99419808e-01 1.03479006e-05 7.75968352e-12\n",
            "  1.03664997e-05 3.92677890e-07 1.58789104e-09 3.52089885e-11\n",
            "  5.59113978e-04 1.09291005e-11]\n",
            " [1.00000000e+00 5.53433434e-16 4.46223137e-12 2.54150012e-15\n",
            "  3.18195550e-14 3.07361664e-10 7.02960912e-10 2.14802486e-16\n",
            "  2.28522984e-13 7.06658430e-12]]\n"
          ]
        }
      ]
    },
    {
      "cell_type": "code",
      "source": [
        "import numpy as np\n",
        "print(np.argmax(prediction,axis=1))\n",
        "print(y_test[:4])"
      ],
      "metadata": {
        "colab": {
          "base_uri": "https://localhost:8080/"
        },
        "id": "dTDMdchV3ZPn",
        "outputId": "418bba74-ca71-48f8-c49f-954c8f88ddbc"
      },
      "execution_count": 20,
      "outputs": [
        {
          "output_type": "stream",
          "name": "stdout",
          "text": [
            "[7 2 1 0]\n",
            "[[0. 0. 0. 0. 0. 0. 0. 1. 0. 0.]\n",
            " [0. 0. 1. 0. 0. 0. 0. 0. 0. 0.]\n",
            " [0. 1. 0. 0. 0. 0. 0. 0. 0. 0.]\n",
            " [1. 0. 0. 0. 0. 0. 0. 0. 0. 0.]]\n"
          ]
        }
      ]
    },
    {
      "cell_type": "markdown",
      "source": [
        "8.Save the model"
      ],
      "metadata": {
        "id": "GLwQXNDn2j0h"
      }
    },
    {
      "cell_type": "code",
      "source": [
        "model.save('models/mnistCNN.h5')"
      ],
      "metadata": {
        "id": "nkTqxZA_3cCo"
      },
      "execution_count": 21,
      "outputs": []
    },
    {
      "cell_type": "markdown",
      "source": [
        "9.Test with saved model"
      ],
      "metadata": {
        "id": "l4cdcMpU9CiP"
      }
    },
    {
      "cell_type": "markdown",
      "source": [
        "Testing-1"
      ],
      "metadata": {
        "id": "vCQLVvd49vSj"
      }
    },
    {
      "cell_type": "code",
      "source": [
        "from tensorflow.keras.models import load_model\n",
        "from tensorflow.keras.preprocessing import image\n",
        "import numpy as np\n",
        "\n",
        "model=load_model('/content/models/mnistCNN.h5')\n",
        "img=image.load_img('/content/data.jpg',target_size=(28,28),grayscale=True)\n",
        "img=image.img_to_array(img)\n",
        "print(img.shape)\n",
        "x=np.expand_dims(img,axis=0)\n",
        "print(x.shape)\n",
        "print('*'*20)\n",
        "print(model.predict(x))\n",
        "print('*'*20)\n",
        "print(np.round_(model.predict(x)))\n"
      ],
      "metadata": {
        "colab": {
          "base_uri": "https://localhost:8080/"
        },
        "id": "MmnuhgbN3qOc",
        "outputId": "af13d51a-670d-4aea-8a23-bdce928bf172"
      },
      "execution_count": 29,
      "outputs": [
        {
          "output_type": "stream",
          "name": "stdout",
          "text": [
            "(28, 28, 1)\n",
            "(1, 28, 28, 1)\n",
            "********************\n",
            "1/1 [==============================] - 0s 58ms/step\n",
            "[[3.7480348e-03 7.6842160e-10 3.1971972e-06 1.1066861e-03 8.1795186e-04\n",
            "  2.6664600e-01 3.0438601e-05 1.0285763e-02 5.6085092e-01 1.5651101e-01]]\n",
            "********************\n",
            "1/1 [==============================] - 0s 21ms/step\n",
            "[[0. 0. 0. 0. 0. 0. 0. 0. 1. 0.]]\n"
          ]
        }
      ]
    },
    {
      "cell_type": "markdown",
      "source": [
        "Testing-2"
      ],
      "metadata": {
        "id": "isMeGRl59ycX"
      }
    },
    {
      "cell_type": "code",
      "source": [
        "from tensorflow.keras.models import load_model\n",
        "from tensorflow.keras.preprocessing import image\n",
        "import numpy as np\n",
        "\n",
        "model=load_model('/content/models/mnistCNN.h5')\n",
        "img=image.load_img('/content/0.png',target_size=(28,28),grayscale=True)\n",
        "img=image.img_to_array(img)\n",
        "print(img.shape)\n",
        "x=np.expand_dims(img,axis=0)\n",
        "print(x.shape)\n",
        "print('*'*20)\n",
        "print(model.predict(x))\n",
        "print('*'*20)\n",
        "print(np.round_(model.predict(x)))"
      ],
      "metadata": {
        "colab": {
          "base_uri": "https://localhost:8080/"
        },
        "id": "c8pGtEMf9TeP",
        "outputId": "99a2c846-a0ee-4bba-c8ca-8c4e043668b6"
      },
      "execution_count": 30,
      "outputs": [
        {
          "output_type": "stream",
          "name": "stdout",
          "text": [
            "(28, 28, 1)\n",
            "(1, 28, 28, 1)\n",
            "********************\n",
            "1/1 [==============================] - 0s 58ms/step\n",
            "[[8.4565616e-01 6.1223082e-06 1.3529530e-01 7.2525195e-06 7.0594538e-06\n",
            "  7.8179939e-03 6.0109678e-06 1.0849683e-02 1.4368325e-06 3.5300280e-04]]\n",
            "********************\n",
            "1/1 [==============================] - 0s 34ms/step\n",
            "[[1. 0. 0. 0. 0. 0. 0. 0. 0. 0.]]\n"
          ]
        }
      ]
    },
    {
      "cell_type": "markdown",
      "source": [
        "Testing-3"
      ],
      "metadata": {
        "id": "FZB2uj9i91m7"
      }
    },
    {
      "cell_type": "code",
      "source": [
        "from tensorflow.keras.models import load_model\n",
        "from tensorflow.keras.preprocessing import image\n",
        "import numpy as np\n",
        "\n",
        "model=load_model('/content/models/mnistCNN.h5')\n",
        "img=image.load_img('/content/5.png',target_size=(28,28),grayscale=True)\n",
        "img=image.img_to_array(img)\n",
        "print(img.shape)\n",
        "x=np.expand_dims(img,axis=0)\n",
        "print(x.shape)\n",
        "print('*'*20)\n",
        "print(model.predict(x))\n",
        "print('*'*20)\n",
        "print(np.round_(model.predict(x)))"
      ],
      "metadata": {
        "colab": {
          "base_uri": "https://localhost:8080/"
        },
        "id": "EuqmaYdS9kNu",
        "outputId": "80e4e152-e86d-4909-d572-cca4acc3aecc"
      },
      "execution_count": 31,
      "outputs": [
        {
          "output_type": "stream",
          "name": "stderr",
          "text": [
            "WARNING:tensorflow:5 out of the last 9 calls to <function Model.make_predict_function.<locals>.predict_function at 0x7f041e341f80> triggered tf.function retracing. Tracing is expensive and the excessive number of tracings could be due to (1) creating @tf.function repeatedly in a loop, (2) passing tensors with different shapes, (3) passing Python objects instead of tensors. For (1), please define your @tf.function outside of the loop. For (2), @tf.function has reduce_retracing=True option that can avoid unnecessary retracing. For (3), please refer to https://www.tensorflow.org/guide/function#controlling_retracing and https://www.tensorflow.org/api_docs/python/tf/function for  more details.\n"
          ]
        },
        {
          "output_type": "stream",
          "name": "stdout",
          "text": [
            "(28, 28, 1)\n",
            "(1, 28, 28, 1)\n",
            "********************\n",
            "1/1 [==============================] - 0s 60ms/step\n",
            "[[1.00980415e-05 1.88434527e-07 6.88326254e-05 1.65369492e-02\n",
            "  6.14392848e-05 9.82516408e-01 3.10022413e-04 2.06910133e-08\n",
            "  4.71084146e-04 2.49948462e-05]]\n",
            "********************\n",
            "1/1 [==============================] - 0s 23ms/step\n",
            "[[0. 0. 0. 0. 0. 1. 0. 0. 0. 0.]]\n"
          ]
        }
      ]
    }
  ]
}